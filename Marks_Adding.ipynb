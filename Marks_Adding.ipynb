{
  "nbformat": 4,
  "nbformat_minor": 0,
  "metadata": {
    "colab": {
      "provenance": [],
      "authorship_tag": "ABX9TyM+X+jKS+/AMIA0CnU9MnUf",
      "include_colab_link": true
    },
    "kernelspec": {
      "name": "python3",
      "display_name": "Python 3"
    },
    "language_info": {
      "name": "python"
    }
  },
  "cells": [
    {
      "cell_type": "markdown",
      "metadata": {
        "id": "view-in-github",
        "colab_type": "text"
      },
      "source": [
        "<a href=\"https://colab.research.google.com/github/thesareen/Marks-Adding-Python/blob/main/Marks_Adding.ipynb\" target=\"_parent\"><img src=\"https://colab.research.google.com/assets/colab-badge.svg\" alt=\"Open In Colab\"/></a>"
      ]
    },
    {
      "cell_type": "code",
      "execution_count": null,
      "metadata": {
        "id": "0gUj8XHcPiQm"
      },
      "outputs": [],
      "source": [
        "import csv\n",
        "L=[]\n",
        "D={}\n",
        "csv_filename=\"Marks.csv\"\n",
        "with open(csv_filename) as f:\n",
        "    reader=csv.DictReader(f)\n",
        "\n",
        "    for row in reader:\n",
        "        #print(row)\n",
        "       # L.append(row)\n",
        "        D.update(row)\n",
        "\n",
        "print(\"Dict\",D)\n",
        "\n",
        "\n"
      ]
    },
    {
      "cell_type": "code",
      "source": [],
      "metadata": {
        "id": "pMR8ATKzPndd"
      },
      "execution_count": null,
      "outputs": []
    }
  ]
}